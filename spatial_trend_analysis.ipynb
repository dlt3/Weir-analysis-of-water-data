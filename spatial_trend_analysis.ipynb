{
 "cells": [
  {
   "cell_type": "code",
   "execution_count": 6,
   "id": "starting-carrier",
   "metadata": {},
   "outputs": [
    {
     "data": {
      "text/plain": [
       "'/home/Sejong bo/OUT.zip'"
      ]
     },
     "execution_count": 6,
     "metadata": {},
     "output_type": "execute_result"
    }
   ],
   "source": [
    "import shutil\n",
    "#shutil.make_archive('OUT','zip','./OUT')"
   ]
  },
  {
   "cell_type": "code",
   "execution_count": 214,
   "id": "industrial-connectivity",
   "metadata": {},
   "outputs": [],
   "source": [
    "import shutil"
   ]
  },
  {
   "cell_type": "code",
   "execution_count": 2,
   "id": "hybrid-computer",
   "metadata": {},
   "outputs": [],
   "source": [
    "import os"
   ]
  },
  {
   "cell_type": "code",
   "execution_count": 1,
   "id": "extended-drilling",
   "metadata": {},
   "outputs": [],
   "source": [
    "import pandas as pd\n",
    "import numpy as np"
   ]
  },
  {
   "cell_type": "code",
   "execution_count": 25,
   "id": "spoken-payday",
   "metadata": {},
   "outputs": [],
   "source": [
    "import matplotlib.pyplot as plt"
   ]
  },
  {
   "cell_type": "code",
   "execution_count": 41,
   "id": "protective-religion",
   "metadata": {},
   "outputs": [],
   "source": [
    "from sklearn.linear_model import LinearRegression\n",
    "from scipy.stats import linregress"
   ]
  },
  {
   "cell_type": "code",
   "execution_count": 94,
   "id": "bottom-country",
   "metadata": {},
   "outputs": [],
   "source": [
    "from tqdm import tqdm"
   ]
  },
  {
   "cell_type": "code",
   "execution_count": 4,
   "id": "incorrect-tower",
   "metadata": {},
   "outputs": [
    {
     "data": {
      "text/plain": [
       "'/Linux/Data/Sejong bo'"
      ]
     },
     "execution_count": 4,
     "metadata": {},
     "output_type": "execute_result"
    }
   ],
   "source": [
    "os.getcwd()"
   ]
  },
  {
   "cell_type": "code",
   "execution_count": 290,
   "id": "chronic-shepherd",
   "metadata": {},
   "outputs": [],
   "source": [
    "### 금강\n",
    "gg_al = pd.read_csv('./금강/GG_algae.csv', encoding = 'CP949')\n",
    "gg_bod = pd.read_csv('./금강/GG_BOD.csv', encoding = 'CP949')\n",
    "gg_chla = pd.read_csv('./금강/GG_chla.csv', encoding = 'CP949')\n",
    "gg_cod = pd.read_csv('./금강/GG_COD.csv', encoding = 'CP949')\n",
    "gg_tn = pd.read_csv('./금강/GG_TN.csv', encoding = 'CP949')\n",
    "gg_tp = pd.read_csv('./금강/GG_TP.csv', encoding = 'CP949')"
   ]
  },
  {
   "cell_type": "code",
   "execution_count": 13,
   "id": "outdoor-cyprus",
   "metadata": {},
   "outputs": [],
   "source": [
    "### 낙동강\n",
    "nd_al = pd.read_csv('./낙동강/NDG_algae.csv', encoding = 'CP949')\n",
    "nd_chla = pd.read_csv('./낙동강/NDG_chla.csv', encoding = 'CP949')\n",
    "nd_bod = pd.read_csv('./낙동강/NDG_BOD.csv', encoding = 'CP949')\n",
    "nd_cod = pd.read_csv('./낙동강/NDG_COD.csv', encoding = 'CP949')\n",
    "nd_tn = pd.read_csv('./낙동강/NDG_TN.csv', encoding = 'CP949')\n",
    "nd_tp = pd.read_csv('./낙동강/NDG_TP.csv', encoding = 'CP949')"
   ]
  },
  {
   "cell_type": "code",
   "execution_count": 14,
   "id": "mineral-migration",
   "metadata": {},
   "outputs": [],
   "source": [
    "### 영산강\n",
    "ys_al = pd.read_csv('./영산강/YSG_algae.csv', encoding = 'CP949')\n",
    "ys_chla = pd.read_csv('./영산강/YSG_chla.csv', encoding = 'CP949')\n",
    "ys_bod = pd.read_csv('./영산강/YSG_BOD.csv', encoding = 'CP949')\n",
    "ys_cod = pd.read_csv('./영산강/YSG_COD.csv', encoding = 'CP949')\n",
    "ys_tn = pd.read_csv('./영산강/YSG_TN.csv', encoding = 'CP949')\n",
    "ys_tp = pd.read_csv('./영산강/YSG_TP.csv', encoding = 'CP949')"
   ]
  },
  {
   "cell_type": "code",
   "execution_count": null,
   "id": "designed-doctor",
   "metadata": {},
   "outputs": [],
   "source": [
    "상주보_클로로필\n",
    "상주보, 낙단보, 상주3, 구미보\n",
    "\n",
    "달성보_클로로필\n",
    "구미보, 구미, 칠곡보, 용암, 강정고령보, 달성보, 대암리, 합천창녕보\n",
    "\n",
    "함안보_클로로필\n",
    "합천창녕보, 용산, 창녕함안보, 북면\n",
    "\n",
    "\n",
    "\n",
    "상주보_유해남조류\n",
    "상주보, 낙단보, 구미보\n",
    "\n",
    "달성보_유해남조류\n",
    "구미보, 칠곡보, 강정고령보, 달성보, 합천창녕보\n",
    "\n",
    "함안보_유해남조류\n",
    "합천창녕보, 창녕함안보"
   ]
  },
  {
   "cell_type": "code",
   "execution_count": 246,
   "id": "parliamentary-implementation",
   "metadata": {
    "collapsed": true,
    "jupyter": {
     "outputs_hidden": true
    }
   },
   "outputs": [
    {
     "data": {
      "text/html": [
       "<div>\n",
       "<style scoped>\n",
       "    .dataframe tbody tr th:only-of-type {\n",
       "        vertical-align: middle;\n",
       "    }\n",
       "\n",
       "    .dataframe tbody tr th {\n",
       "        vertical-align: top;\n",
       "    }\n",
       "\n",
       "    .dataframe thead th {\n",
       "        text-align: right;\n",
       "    }\n",
       "</style>\n",
       "<table border=\"1\" class=\"dataframe\">\n",
       "  <thead>\n",
       "    <tr style=\"text-align: right;\">\n",
       "      <th></th>\n",
       "      <th>Unnamed: 0</th>\n",
       "      <th>201301</th>\n",
       "      <th>201302</th>\n",
       "      <th>201303</th>\n",
       "      <th>201304</th>\n",
       "      <th>201305</th>\n",
       "      <th>201306</th>\n",
       "      <th>201307</th>\n",
       "      <th>201308</th>\n",
       "      <th>201309</th>\n",
       "      <th>...</th>\n",
       "      <th>202103</th>\n",
       "      <th>202104</th>\n",
       "      <th>202105</th>\n",
       "      <th>202106</th>\n",
       "      <th>202107</th>\n",
       "      <th>202108</th>\n",
       "      <th>202109</th>\n",
       "      <th>202110</th>\n",
       "      <th>202111</th>\n",
       "      <th>202112</th>\n",
       "    </tr>\n",
       "  </thead>\n",
       "  <tbody>\n",
       "    <tr>\n",
       "      <th>0</th>\n",
       "      <td>Chl-a (㎎/㎥)_상주보</td>\n",
       "      <td>1.900000</td>\n",
       "      <td>1.657143</td>\n",
       "      <td>11.345714</td>\n",
       "      <td>9.017857</td>\n",
       "      <td>17.435714</td>\n",
       "      <td>27.768571</td>\n",
       "      <td>28.028571</td>\n",
       "      <td>19.728571</td>\n",
       "      <td>19.620000</td>\n",
       "      <td>...</td>\n",
       "      <td>29.417857</td>\n",
       "      <td>30.910714</td>\n",
       "      <td>22.694286</td>\n",
       "      <td>31.089286</td>\n",
       "      <td>24.639286</td>\n",
       "      <td>20.717143</td>\n",
       "      <td>25.725000</td>\n",
       "      <td>24.588571</td>\n",
       "      <td>8.000000</td>\n",
       "      <td>5.275000</td>\n",
       "    </tr>\n",
       "    <tr>\n",
       "      <th>1</th>\n",
       "      <td>Chl-a (㎎/㎥)_낙단보</td>\n",
       "      <td>32.928571</td>\n",
       "      <td>32.928571</td>\n",
       "      <td>21.948571</td>\n",
       "      <td>16.375000</td>\n",
       "      <td>10.257143</td>\n",
       "      <td>24.765714</td>\n",
       "      <td>28.039286</td>\n",
       "      <td>35.732143</td>\n",
       "      <td>14.888571</td>\n",
       "      <td>...</td>\n",
       "      <td>36.989286</td>\n",
       "      <td>31.175000</td>\n",
       "      <td>31.211429</td>\n",
       "      <td>22.228571</td>\n",
       "      <td>26.692857</td>\n",
       "      <td>17.660000</td>\n",
       "      <td>46.989286</td>\n",
       "      <td>25.894286</td>\n",
       "      <td>18.517857</td>\n",
       "      <td>10.514286</td>\n",
       "    </tr>\n",
       "    <tr>\n",
       "      <th>2</th>\n",
       "      <td>CHLA_상주3</td>\n",
       "      <td>1.142857</td>\n",
       "      <td>3.332143</td>\n",
       "      <td>23.157143</td>\n",
       "      <td>18.400000</td>\n",
       "      <td>11.167857</td>\n",
       "      <td>16.434286</td>\n",
       "      <td>14.171429</td>\n",
       "      <td>11.550000</td>\n",
       "      <td>15.482857</td>\n",
       "      <td>...</td>\n",
       "      <td>43.114286</td>\n",
       "      <td>29.414286</td>\n",
       "      <td>23.371429</td>\n",
       "      <td>23.610714</td>\n",
       "      <td>16.078571</td>\n",
       "      <td>11.985714</td>\n",
       "      <td>20.592857</td>\n",
       "      <td>30.020000</td>\n",
       "      <td>18.921429</td>\n",
       "      <td>13.269643</td>\n",
       "    </tr>\n",
       "    <tr>\n",
       "      <th>3</th>\n",
       "      <td>Chl-a (㎎/㎥)_구미보</td>\n",
       "      <td>8.542857</td>\n",
       "      <td>8.542857</td>\n",
       "      <td>24.160000</td>\n",
       "      <td>15.457143</td>\n",
       "      <td>8.628571</td>\n",
       "      <td>36.820000</td>\n",
       "      <td>28.085714</td>\n",
       "      <td>31.103571</td>\n",
       "      <td>8.708571</td>\n",
       "      <td>...</td>\n",
       "      <td>22.553571</td>\n",
       "      <td>30.832143</td>\n",
       "      <td>30.408571</td>\n",
       "      <td>14.646429</td>\n",
       "      <td>21.225000</td>\n",
       "      <td>12.391429</td>\n",
       "      <td>32.607143</td>\n",
       "      <td>28.845714</td>\n",
       "      <td>24.657143</td>\n",
       "      <td>17.783929</td>\n",
       "    </tr>\n",
       "    <tr>\n",
       "      <th>4</th>\n",
       "      <td>CHLA_구미</td>\n",
       "      <td>5.450000</td>\n",
       "      <td>4.642857</td>\n",
       "      <td>41.045714</td>\n",
       "      <td>18.285714</td>\n",
       "      <td>13.407143</td>\n",
       "      <td>29.925714</td>\n",
       "      <td>11.253571</td>\n",
       "      <td>11.650000</td>\n",
       "      <td>11.962857</td>\n",
       "      <td>...</td>\n",
       "      <td>28.271429</td>\n",
       "      <td>40.514286</td>\n",
       "      <td>21.182857</td>\n",
       "      <td>28.892857</td>\n",
       "      <td>41.528571</td>\n",
       "      <td>39.908571</td>\n",
       "      <td>30.771429</td>\n",
       "      <td>34.217143</td>\n",
       "      <td>30.167857</td>\n",
       "      <td>25.675000</td>\n",
       "    </tr>\n",
       "    <tr>\n",
       "      <th>5</th>\n",
       "      <td>Chl-a (㎎/㎥)_칠곡보</td>\n",
       "      <td>14.125000</td>\n",
       "      <td>4.228571</td>\n",
       "      <td>37.451429</td>\n",
       "      <td>19.589286</td>\n",
       "      <td>14.510714</td>\n",
       "      <td>29.414286</td>\n",
       "      <td>30.632143</td>\n",
       "      <td>16.482143</td>\n",
       "      <td>11.671429</td>\n",
       "      <td>...</td>\n",
       "      <td>27.835714</td>\n",
       "      <td>35.296429</td>\n",
       "      <td>24.202857</td>\n",
       "      <td>25.271429</td>\n",
       "      <td>23.546429</td>\n",
       "      <td>15.277143</td>\n",
       "      <td>25.557143</td>\n",
       "      <td>21.734286</td>\n",
       "      <td>14.442857</td>\n",
       "      <td>24.591071</td>\n",
       "    </tr>\n",
       "    <tr>\n",
       "      <th>6</th>\n",
       "      <td>CHLA_용암</td>\n",
       "      <td>21.364286</td>\n",
       "      <td>8.767857</td>\n",
       "      <td>43.862857</td>\n",
       "      <td>18.675000</td>\n",
       "      <td>11.635714</td>\n",
       "      <td>21.011429</td>\n",
       "      <td>18.739286</td>\n",
       "      <td>27.739286</td>\n",
       "      <td>32.654286</td>\n",
       "      <td>...</td>\n",
       "      <td>26.817857</td>\n",
       "      <td>28.342857</td>\n",
       "      <td>23.842857</td>\n",
       "      <td>13.392857</td>\n",
       "      <td>45.857143</td>\n",
       "      <td>44.914286</td>\n",
       "      <td>20.832143</td>\n",
       "      <td>14.225714</td>\n",
       "      <td>12.367857</td>\n",
       "      <td>17.614286</td>\n",
       "    </tr>\n",
       "    <tr>\n",
       "      <th>7</th>\n",
       "      <td>Chl-a (㎎/㎥)_강정고령보</td>\n",
       "      <td>20.846429</td>\n",
       "      <td>12.810714</td>\n",
       "      <td>50.420000</td>\n",
       "      <td>17.067857</td>\n",
       "      <td>8.257143</td>\n",
       "      <td>16.131429</td>\n",
       "      <td>22.803571</td>\n",
       "      <td>26.067857</td>\n",
       "      <td>26.917143</td>\n",
       "      <td>...</td>\n",
       "      <td>23.882143</td>\n",
       "      <td>22.682143</td>\n",
       "      <td>11.757143</td>\n",
       "      <td>14.903571</td>\n",
       "      <td>30.671429</td>\n",
       "      <td>15.157143</td>\n",
       "      <td>21.146429</td>\n",
       "      <td>16.262857</td>\n",
       "      <td>10.367857</td>\n",
       "      <td>9.414286</td>\n",
       "    </tr>\n",
       "    <tr>\n",
       "      <th>8</th>\n",
       "      <td>Chl-a (㎎/㎥)_달성보</td>\n",
       "      <td>18.110714</td>\n",
       "      <td>25.582143</td>\n",
       "      <td>76.440000</td>\n",
       "      <td>33.871429</td>\n",
       "      <td>10.164286</td>\n",
       "      <td>13.937143</td>\n",
       "      <td>27.203571</td>\n",
       "      <td>50.135714</td>\n",
       "      <td>52.814286</td>\n",
       "      <td>...</td>\n",
       "      <td>43.835714</td>\n",
       "      <td>22.107143</td>\n",
       "      <td>7.551429</td>\n",
       "      <td>20.300000</td>\n",
       "      <td>26.285714</td>\n",
       "      <td>18.797143</td>\n",
       "      <td>19.410714</td>\n",
       "      <td>16.951429</td>\n",
       "      <td>23.478571</td>\n",
       "      <td>13.414286</td>\n",
       "    </tr>\n",
       "    <tr>\n",
       "      <th>9</th>\n",
       "      <td>CHLA_대암리</td>\n",
       "      <td>25.485714</td>\n",
       "      <td>33.675000</td>\n",
       "      <td>80.622857</td>\n",
       "      <td>31.389286</td>\n",
       "      <td>8.864286</td>\n",
       "      <td>9.671429</td>\n",
       "      <td>26.792857</td>\n",
       "      <td>35.696429</td>\n",
       "      <td>43.922857</td>\n",
       "      <td>...</td>\n",
       "      <td>53.057143</td>\n",
       "      <td>17.892857</td>\n",
       "      <td>7.140000</td>\n",
       "      <td>25.357143</td>\n",
       "      <td>22.785714</td>\n",
       "      <td>21.348571</td>\n",
       "      <td>11.017857</td>\n",
       "      <td>24.182857</td>\n",
       "      <td>30.982143</td>\n",
       "      <td>26.819643</td>\n",
       "    </tr>\n",
       "    <tr>\n",
       "      <th>10</th>\n",
       "      <td>Chl-a (㎎/㎥)_합천창녕보</td>\n",
       "      <td>5.900000</td>\n",
       "      <td>28.453571</td>\n",
       "      <td>70.131429</td>\n",
       "      <td>30.892857</td>\n",
       "      <td>11.935714</td>\n",
       "      <td>12.442857</td>\n",
       "      <td>33.510714</td>\n",
       "      <td>41.414286</td>\n",
       "      <td>49.574286</td>\n",
       "      <td>...</td>\n",
       "      <td>41.764286</td>\n",
       "      <td>20.710714</td>\n",
       "      <td>6.877143</td>\n",
       "      <td>17.875000</td>\n",
       "      <td>27.835714</td>\n",
       "      <td>17.045714</td>\n",
       "      <td>11.439286</td>\n",
       "      <td>17.965714</td>\n",
       "      <td>20.614286</td>\n",
       "      <td>19.598214</td>\n",
       "    </tr>\n",
       "    <tr>\n",
       "      <th>11</th>\n",
       "      <td>CHLA_용산</td>\n",
       "      <td>20.114286</td>\n",
       "      <td>26.060714</td>\n",
       "      <td>61.882857</td>\n",
       "      <td>27.900000</td>\n",
       "      <td>11.710714</td>\n",
       "      <td>11.691429</td>\n",
       "      <td>26.500000</td>\n",
       "      <td>45.103571</td>\n",
       "      <td>77.354286</td>\n",
       "      <td>...</td>\n",
       "      <td>51.767857</td>\n",
       "      <td>22.985714</td>\n",
       "      <td>12.391429</td>\n",
       "      <td>9.335714</td>\n",
       "      <td>17.564286</td>\n",
       "      <td>19.102857</td>\n",
       "      <td>20.000000</td>\n",
       "      <td>22.780000</td>\n",
       "      <td>19.810714</td>\n",
       "      <td>19.369643</td>\n",
       "    </tr>\n",
       "    <tr>\n",
       "      <th>12</th>\n",
       "      <td>Chl-a (㎎/㎥)_창녕함안보</td>\n",
       "      <td>16.453571</td>\n",
       "      <td>28.750000</td>\n",
       "      <td>56.200000</td>\n",
       "      <td>23.182143</td>\n",
       "      <td>9.160714</td>\n",
       "      <td>20.805714</td>\n",
       "      <td>48.253571</td>\n",
       "      <td>30.171429</td>\n",
       "      <td>45.805714</td>\n",
       "      <td>...</td>\n",
       "      <td>37.446429</td>\n",
       "      <td>23.760714</td>\n",
       "      <td>16.517143</td>\n",
       "      <td>22.764286</td>\n",
       "      <td>25.310714</td>\n",
       "      <td>23.445714</td>\n",
       "      <td>21.582143</td>\n",
       "      <td>34.705714</td>\n",
       "      <td>20.417857</td>\n",
       "      <td>16.328571</td>\n",
       "    </tr>\n",
       "    <tr>\n",
       "      <th>13</th>\n",
       "      <td>CHLA_북면</td>\n",
       "      <td>15.035714</td>\n",
       "      <td>27.507143</td>\n",
       "      <td>61.042857</td>\n",
       "      <td>21.564286</td>\n",
       "      <td>8.371429</td>\n",
       "      <td>18.997143</td>\n",
       "      <td>34.714286</td>\n",
       "      <td>33.821429</td>\n",
       "      <td>46.040000</td>\n",
       "      <td>...</td>\n",
       "      <td>30.635714</td>\n",
       "      <td>23.096429</td>\n",
       "      <td>17.300000</td>\n",
       "      <td>17.203571</td>\n",
       "      <td>27.560714</td>\n",
       "      <td>32.571429</td>\n",
       "      <td>33.075000</td>\n",
       "      <td>37.937143</td>\n",
       "      <td>15.492857</td>\n",
       "      <td>10.642857</td>\n",
       "    </tr>\n",
       "  </tbody>\n",
       "</table>\n",
       "<p>14 rows × 109 columns</p>\n",
       "</div>"
      ],
      "text/plain": [
       "           Unnamed: 0     201301     201302     201303     201304     201305  \\\n",
       "0     Chl-a (㎎/㎥)_상주보   1.900000   1.657143  11.345714   9.017857  17.435714   \n",
       "1     Chl-a (㎎/㎥)_낙단보  32.928571  32.928571  21.948571  16.375000  10.257143   \n",
       "2            CHLA_상주3   1.142857   3.332143  23.157143  18.400000  11.167857   \n",
       "3     Chl-a (㎎/㎥)_구미보   8.542857   8.542857  24.160000  15.457143   8.628571   \n",
       "4             CHLA_구미   5.450000   4.642857  41.045714  18.285714  13.407143   \n",
       "5     Chl-a (㎎/㎥)_칠곡보  14.125000   4.228571  37.451429  19.589286  14.510714   \n",
       "6             CHLA_용암  21.364286   8.767857  43.862857  18.675000  11.635714   \n",
       "7   Chl-a (㎎/㎥)_강정고령보  20.846429  12.810714  50.420000  17.067857   8.257143   \n",
       "8     Chl-a (㎎/㎥)_달성보  18.110714  25.582143  76.440000  33.871429  10.164286   \n",
       "9            CHLA_대암리  25.485714  33.675000  80.622857  31.389286   8.864286   \n",
       "10  Chl-a (㎎/㎥)_합천창녕보   5.900000  28.453571  70.131429  30.892857  11.935714   \n",
       "11            CHLA_용산  20.114286  26.060714  61.882857  27.900000  11.710714   \n",
       "12  Chl-a (㎎/㎥)_창녕함안보  16.453571  28.750000  56.200000  23.182143   9.160714   \n",
       "13            CHLA_북면  15.035714  27.507143  61.042857  21.564286   8.371429   \n",
       "\n",
       "       201306     201307     201308     201309  ...     202103     202104  \\\n",
       "0   27.768571  28.028571  19.728571  19.620000  ...  29.417857  30.910714   \n",
       "1   24.765714  28.039286  35.732143  14.888571  ...  36.989286  31.175000   \n",
       "2   16.434286  14.171429  11.550000  15.482857  ...  43.114286  29.414286   \n",
       "3   36.820000  28.085714  31.103571   8.708571  ...  22.553571  30.832143   \n",
       "4   29.925714  11.253571  11.650000  11.962857  ...  28.271429  40.514286   \n",
       "5   29.414286  30.632143  16.482143  11.671429  ...  27.835714  35.296429   \n",
       "6   21.011429  18.739286  27.739286  32.654286  ...  26.817857  28.342857   \n",
       "7   16.131429  22.803571  26.067857  26.917143  ...  23.882143  22.682143   \n",
       "8   13.937143  27.203571  50.135714  52.814286  ...  43.835714  22.107143   \n",
       "9    9.671429  26.792857  35.696429  43.922857  ...  53.057143  17.892857   \n",
       "10  12.442857  33.510714  41.414286  49.574286  ...  41.764286  20.710714   \n",
       "11  11.691429  26.500000  45.103571  77.354286  ...  51.767857  22.985714   \n",
       "12  20.805714  48.253571  30.171429  45.805714  ...  37.446429  23.760714   \n",
       "13  18.997143  34.714286  33.821429  46.040000  ...  30.635714  23.096429   \n",
       "\n",
       "       202105     202106     202107     202108     202109     202110  \\\n",
       "0   22.694286  31.089286  24.639286  20.717143  25.725000  24.588571   \n",
       "1   31.211429  22.228571  26.692857  17.660000  46.989286  25.894286   \n",
       "2   23.371429  23.610714  16.078571  11.985714  20.592857  30.020000   \n",
       "3   30.408571  14.646429  21.225000  12.391429  32.607143  28.845714   \n",
       "4   21.182857  28.892857  41.528571  39.908571  30.771429  34.217143   \n",
       "5   24.202857  25.271429  23.546429  15.277143  25.557143  21.734286   \n",
       "6   23.842857  13.392857  45.857143  44.914286  20.832143  14.225714   \n",
       "7   11.757143  14.903571  30.671429  15.157143  21.146429  16.262857   \n",
       "8    7.551429  20.300000  26.285714  18.797143  19.410714  16.951429   \n",
       "9    7.140000  25.357143  22.785714  21.348571  11.017857  24.182857   \n",
       "10   6.877143  17.875000  27.835714  17.045714  11.439286  17.965714   \n",
       "11  12.391429   9.335714  17.564286  19.102857  20.000000  22.780000   \n",
       "12  16.517143  22.764286  25.310714  23.445714  21.582143  34.705714   \n",
       "13  17.300000  17.203571  27.560714  32.571429  33.075000  37.937143   \n",
       "\n",
       "       202111     202112  \n",
       "0    8.000000   5.275000  \n",
       "1   18.517857  10.514286  \n",
       "2   18.921429  13.269643  \n",
       "3   24.657143  17.783929  \n",
       "4   30.167857  25.675000  \n",
       "5   14.442857  24.591071  \n",
       "6   12.367857  17.614286  \n",
       "7   10.367857   9.414286  \n",
       "8   23.478571  13.414286  \n",
       "9   30.982143  26.819643  \n",
       "10  20.614286  19.598214  \n",
       "11  19.810714  19.369643  \n",
       "12  20.417857  16.328571  \n",
       "13  15.492857  10.642857  \n",
       "\n",
       "[14 rows x 109 columns]"
      ]
     },
     "execution_count": 246,
     "metadata": {},
     "output_type": "execute_result"
    }
   ],
   "source": [
    "nd_chla"
   ]
  },
  {
   "cell_type": "code",
   "execution_count": 245,
   "id": "comfortable-theology",
   "metadata": {},
   "outputs": [],
   "source": [
    "nd_al_up = nd_al.iloc[:3, :]\n",
    "nd_al_mid = nd_al.iloc[2:7, :]\n",
    "nd_al_do = nd_al.iloc[6:, :]"
   ]
  },
  {
   "cell_type": "code",
   "execution_count": 253,
   "id": "moved-bailey",
   "metadata": {},
   "outputs": [],
   "source": [
    "nd_chla_up = nd_chla.iloc[:4, :]\n",
    "nd_chla_mid = nd_chla.iloc[3:11, :]\n",
    "nd_chla_do = nd_chla.iloc[10:, :]"
   ]
  },
  {
   "cell_type": "code",
   "execution_count": 37,
   "id": "statistical-surge",
   "metadata": {},
   "outputs": [],
   "source": [
    "list_region = [i for i in range(nd_al.shape[0])]"
   ]
  },
  {
   "cell_type": "code",
   "execution_count": 38,
   "id": "million-director",
   "metadata": {},
   "outputs": [],
   "source": [
    "y = nd_al.iloc[:, 1]\n",
    "region = list_region"
   ]
  },
  {
   "cell_type": "code",
   "execution_count": 40,
   "id": "infectious-weather",
   "metadata": {},
   "outputs": [
    {
     "data": {
      "text/plain": [
       "<matplotlib.collections.PathCollection at 0x7fa63f9a2c10>"
      ]
     },
     "execution_count": 40,
     "metadata": {},
     "output_type": "execute_result"
    },
    {
     "data": {
      "image/png": "[encoded data removed]",
      "text/plain": [
       "<Figure size 432x288 with 1 Axes>"
      ]
     },
     "metadata": {
      "needs_background": "light"
     },
     "output_type": "display_data"
    }
   ],
   "source": [
    "plt.scatter(region, y)"
   ]
  },
  {
   "cell_type": "code",
   "execution_count": 42,
   "id": "knowing-florence",
   "metadata": {},
   "outputs": [],
   "source": [
    "slope, intercept, r_value, p_value, std_err = linregress(region, y)"
   ]
  },
  {
   "cell_type": "code",
   "execution_count": 92,
   "id": "apparent-clone",
   "metadata": {},
   "outputs": [],
   "source": [
    "def slope_value(data):\n",
    "    \n",
    "    y_value = []\n",
    "    slope_list = []\n",
    "    list_region = [i for i in range(data.shape[0])]\n",
    "    \n",
    "    for j in tqdm(range(data.shape[1])):\n",
    "        y_value.append(data.iloc[:, j])\n",
    "        \n",
    "        slope_list.append(linregress(list_region, y_value[j])[0])\n",
    "        \n",
    "    return slope_list"
   ]
  },
  {
   "cell_type": "code",
   "execution_count": 278,
   "id": "ultimate-wheat",
   "metadata": {},
   "outputs": [],
   "source": [
    "def linegress_value(data, output = 'p_value'):\n",
    "    \n",
    "    if output == slope:\n",
    "        k = 0\n",
    "    else:\n",
    "        k = 3\n",
    "    y_value = []\n",
    "    slope_list = []\n",
    "    list_region = [i for i in range(data.shape[0])]\n",
    "    \n",
    "    for j in tqdm(range(data.shape[1])):\n",
    "        y_value.append(data.iloc[:, j])\n",
    "        \n",
    "        slope_list.append(linregress(list_region, y_value[j])[k])\n",
    "        \n",
    "    return slope_list"
   ]
  },
  {
   "cell_type": "code",
   "execution_count": 282,
   "id": "coupled-forestry",
   "metadata": {},
   "outputs": [
    {
     "name": "stderr",
     "output_type": "stream",
     "text": [
      "100%|██████████| 108/108 [00:00<00:00, 3331.51it/s]\n",
      "100%|██████████| 108/108 [00:00<00:00, 3733.34it/s]\n",
      "100%|██████████| 108/108 [00:00<00:00, 3760.27it/s]\n",
      "100%|██████████| 108/108 [00:00<00:00, 3660.28it/s]\n",
      "100%|██████████| 108/108 [00:00<00:00, 3752.36it/s]\n",
      "100%|██████████| 108/108 [00:00<00:00, 3918.42it/s]\n"
     ]
    }
   ],
   "source": [
    "### 낙동강 p_value\n",
    "nd_chla_p = linegress_value(nd_chla.iloc[:, 1:], p_value)\n",
    "nd_al_p = linegress_value(nd_al.iloc[:,1:], p_value)\n",
    "nd_bod_p = linegress_value(nd_bod.iloc[:,1:], p_value)\n",
    "nd_cod_p = linegress_value(nd_cod.iloc[:,1:], p_value)\n",
    "nd_tn_p = linegress_value(nd_tn.iloc[:,1:], p_value)\n",
    "nd_tp_p = linegress_value(nd_tp.iloc[:,1:], p_value)"
   ]
  },
  {
   "cell_type": "code",
   "execution_count": 95,
   "id": "vietnamese-making",
   "metadata": {},
   "outputs": [
    {
     "name": "stderr",
     "output_type": "stream",
     "text": [
      "100%|██████████| 108/108 [00:00<00:00, 3214.41it/s]\n",
      "100%|██████████| 108/108 [00:00<00:00, 3604.96it/s]\n",
      "100%|██████████| 108/108 [00:00<00:00, 3716.52it/s]\n",
      "100%|██████████| 108/108 [00:00<00:00, 3721.20it/s]\n",
      "100%|██████████| 108/108 [00:00<00:00, 3759.80it/s]\n",
      "100%|██████████| 108/108 [00:00<00:00, 3821.04it/s]\n"
     ]
    }
   ],
   "source": [
    "### 낙동강 기울기\n",
    "nd_al_slope = slope_value(nd_al.iloc[:,1:])\n",
    "nd_chla_slope = slope_value(nd_chla.iloc[:,1:])\n",
    "nd_bod_slope = slope_value(nd_bod.iloc[:,1:])\n",
    "nd_cod_slope = slope_value(nd_cod.iloc[:,1:])\n",
    "nd_tn_slope = slope_value(nd_tn.iloc[:,1:])\n",
    "nd_tp_slope = slope_value(nd_tp.iloc[:,1:])"
   ]
  },
  {
   "cell_type": "code",
   "execution_count": 255,
   "id": "educated-gross",
   "metadata": {},
   "outputs": [
    {
     "name": "stderr",
     "output_type": "stream",
     "text": [
      "100%|██████████| 108/108 [00:00<00:00, 3170.14it/s]\n",
      "100%|██████████| 108/108 [00:00<00:00, 3659.63it/s]\n",
      "100%|██████████| 108/108 [00:00<00:00, 6696.20it/s]\n",
      "100%|██████████| 108/108 [00:00<00:00, 3659.30it/s]\n",
      "100%|██████████| 108/108 [00:00<00:00, 3682.06it/s]\n",
      "100%|██████████| 108/108 [00:00<00:00, 3697.81it/s]\n"
     ]
    }
   ],
   "source": [
    "### 낙동강(chla, algae) 3등분(상류, 중류, 하류) 기울기\n",
    "nd_al_up_slope = slope_value(nd_al_up.iloc[:, 1:])\n",
    "nd_al_mid_slope = slope_value(nd_al_mid.iloc[:, 1:])\n",
    "nd_al_do_slope = slope_value(nd_al_do.iloc[:, 1:])\n",
    "\n",
    "nd_chla_up_slope = slope_value(nd_chla_up.iloc[:, 1:])\n",
    "nd_chla_mid_slope = slope_value(nd_chla_mid.iloc[:, 1:])\n",
    "nd_chla_do_slope = slope_value(nd_chla_do.iloc[:, 1:])"
   ]
  },
  {
   "cell_type": "code",
   "execution_count": 96,
   "id": "extra-brass",
   "metadata": {},
   "outputs": [
    {
     "name": "stderr",
     "output_type": "stream",
     "text": [
      "100%|██████████| 108/108 [00:00<00:00, 5305.89it/s]\n",
      "100%|██████████| 108/108 [00:00<00:00, 3770.26it/s]\n",
      "100%|██████████| 108/108 [00:00<00:00, 3795.40it/s]\n",
      "100%|██████████| 108/108 [00:00<00:00, 3465.20it/s]\n",
      "100%|██████████| 108/108 [00:00<00:00, 3636.07it/s]\n",
      "100%|██████████| 108/108 [00:00<00:00, 3700.01it/s]\n"
     ]
    }
   ],
   "source": [
    "### 영산강 기울기\n",
    "ys_al_slope = slope_value(ys_al.iloc[:, 1:])\n",
    "ys_chla_slope = slope_value(ys_chla.iloc[:, 1:])\n",
    "ys_bod_slope = slope_value(ys_bod.iloc[:, 1:])\n",
    "ys_cod_slope = slope_value(ys_cod.iloc[:, 1:])\n",
    "ys_tn_slope = slope_value(ys_tn.iloc[:, 1:])\n",
    "ys_tp_slope = slope_value(ys_tp.iloc[:, 1:])"
   ]
  },
  {
   "cell_type": "code",
   "execution_count": 283,
   "id": "expanded-jefferson",
   "metadata": {},
   "outputs": [
    {
     "name": "stderr",
     "output_type": "stream",
     "text": [
      "100%|██████████| 108/108 [00:00<00:00, 3445.38it/s]\n",
      "100%|██████████| 108/108 [00:00<00:00, 7066.63it/s]\n",
      "100%|██████████| 108/108 [00:00<00:00, 3722.30it/s]\n",
      "100%|██████████| 108/108 [00:00<00:00, 3915.17it/s]\n",
      "100%|██████████| 108/108 [00:00<00:00, 3743.99it/s]\n",
      "100%|██████████| 108/108 [00:00<00:00, 3993.52it/s]\n"
     ]
    }
   ],
   "source": [
    "### 영산강 p_value\n",
    "ys_chla_p = linegress_value(ys_chla.iloc[:, 1:], p_value)\n",
    "ys_al_p = linegress_value(ys_al.iloc[:,1:], p_value)\n",
    "ys_bod_p = linegress_value(ys_bod.iloc[:,1:], p_value)\n",
    "ys_cod_p = linegress_value(ys_cod.iloc[:,1:], p_value)\n",
    "ys_tn_p = linegress_value(ys_tn.iloc[:,1:], p_value)\n",
    "ys_tp_p = linegress_value(ys_tp.iloc[:,1:], p_value)"
   ]
  },
  {
   "cell_type": "code",
   "execution_count": 295,
   "id": "activated-shift",
   "metadata": {},
   "outputs": [
    {
     "name": "stderr",
     "output_type": "stream",
     "text": [
      "100%|██████████| 108/108 [00:00<00:00, 5290.15it/s]\n",
      "100%|██████████| 108/108 [00:00<00:00, 3874.25it/s]\n",
      "100%|██████████| 108/108 [00:00<00:00, 3989.79it/s]\n",
      "100%|██████████| 108/108 [00:00<00:00, 3745.16it/s]\n",
      "100%|██████████| 108/108 [00:00<00:00, 3685.17it/s]\n",
      "100%|██████████| 108/108 [00:00<00:00, 3692.62it/s]\n"
     ]
    }
   ],
   "source": [
    "## 금강 기울기\n",
    "gg_al_slope = slope_value(gg_al.iloc[:, 1:])\n",
    "gg_chla_slope = slope_value(gg_chla.iloc[:, 1:])\n",
    "gg_bod_slope = slope_value(gg_bod.iloc[:, 1:])\n",
    "gg_cod_slope = slope_value(gg_cod.iloc[:, 1:])\n",
    "gg_tn_slope = slope_value(gg_tn.iloc[:, 1:])\n",
    "gg_tp_slope = slope_value(gg_tp.iloc[:, 1:])"
   ]
  },
  {
   "cell_type": "code",
   "execution_count": 296,
   "id": "informal-outside",
   "metadata": {},
   "outputs": [
    {
     "name": "stderr",
     "output_type": "stream",
     "text": [
      "100%|██████████| 108/108 [00:00<00:00, 3199.61it/s]\n",
      "100%|██████████| 108/108 [00:00<00:00, 6493.75it/s]\n",
      "100%|██████████| 108/108 [00:00<00:00, 3832.72it/s]\n",
      "100%|██████████| 108/108 [00:00<00:00, 3729.84it/s]\n",
      "100%|██████████| 108/108 [00:00<00:00, 3674.95it/s]\n",
      "100%|██████████| 108/108 [00:00<00:00, 3740.40it/s]\n"
     ]
    }
   ],
   "source": [
    "### 금강 p_value\n",
    "gg_chla_p = linegress_value(gg_chla.iloc[:, 1:], p_value)\n",
    "gg_al_p = linegress_value(gg_al.iloc[:,1:], p_value)\n",
    "gg_bod_p = linegress_value(gg_bod.iloc[:,1:], p_value)\n",
    "gg_cod_p = linegress_value(gg_cod.iloc[:,1:], p_value)\n",
    "gg_tn_p = linegress_value(gg_tn.iloc[:,1:], p_value)\n",
    "gg_tp_p = linegress_value(gg_tp.iloc[:,1:], p_value)"
   ]
  },
  {
   "cell_type": "code",
   "execution_count": 170,
   "id": "extra-browse",
   "metadata": {},
   "outputs": [],
   "source": [
    "columns = [\"{}월\".format(i+1) for i in range(12) ]"
   ]
  },
  {
   "cell_type": "code",
   "execution_count": 179,
   "id": "intensive-society",
   "metadata": {},
   "outputs": [],
   "source": [
    "columns = [str(i+1) + \"월\" for i in range(12)  ]"
   ]
  },
  {
   "cell_type": "code",
   "execution_count": 185,
   "id": "consecutive-destination",
   "metadata": {},
   "outputs": [],
   "source": [
    "years = list(range(2013, 2022))"
   ]
  },
  {
   "cell_type": "code",
   "execution_count": 205,
   "id": "double-equality",
   "metadata": {},
   "outputs": [],
   "source": [
    "def slope_df(slope_data):\n",
    "    \n",
    "    columns = [\"{}월\".format(i+1) for i in range(12) ]\n",
    "    years = list(range(2013, 2022))\n",
    "    list1 = []\n",
    "    for i in range(9):\n",
    "        list2 = []\n",
    "        for j in tqdm(range(12)):\n",
    "            list2.append(slope_data[i*12:(i+1)*12])\n",
    "        list1.append(list2)\n",
    "    \n",
    "    list3 = []\n",
    "    for k in range(9):\n",
    "        list3.append(list1[k][0])\n",
    "    \n",
    "    df_slope = pd.DataFrame(list3, columns = columns, index = years)\n",
    "    \n",
    "    return df_slope"
   ]
  },
  {
   "cell_type": "code",
   "execution_count": 207,
   "id": "heard-actress",
   "metadata": {
    "collapsed": true,
    "jupyter": {
     "outputs_hidden": true
    }
   },
   "outputs": [
    {
     "name": "stderr",
     "output_type": "stream",
     "text": [
      "100%|██████████| 12/12 [00:00<00:00, 154391.56it/s]\n",
      "100%|██████████| 12/12 [00:00<00:00, 189216.72it/s]\n",
      "100%|██████████| 12/12 [00:00<00:00, 192841.56it/s]\n",
      "100%|██████████| 12/12 [00:00<00:00, 199728.76it/s]\n",
      "100%|██████████| 12/12 [00:00<00:00, 195083.91it/s]\n",
      "100%|██████████| 12/12 [00:00<00:00, 198156.09it/s]\n",
      "100%|██████████| 12/12 [00:00<00:00, 285975.27it/s]\n",
      "100%|██████████| 12/12 [00:00<00:00, 275036.33it/s]\n",
      "100%|██████████| 12/12 [00:00<00:00, 255490.60it/s]\n",
      "100%|██████████| 12/12 [00:00<00:00, 263516.48it/s]\n",
      "100%|██████████| 12/12 [00:00<00:00, 266305.02it/s]\n",
      "100%|██████████| 12/12 [00:00<00:00, 264903.41it/s]\n",
      "100%|██████████| 12/12 [00:00<00:00, 264903.41it/s]\n",
      "100%|██████████| 12/12 [00:00<00:00, 296068.52it/s]\n",
      "100%|██████████| 12/12 [00:00<00:00, 266305.02it/s]\n",
      "100%|██████████| 12/12 [00:00<00:00, 267721.53it/s]\n",
      "100%|██████████| 12/12 [00:00<00:00, 266305.02it/s]\n",
      "100%|██████████| 12/12 [00:00<00:00, 275036.33it/s]\n",
      "100%|██████████| 12/12 [00:00<00:00, 259441.48it/s]\n",
      "100%|██████████| 12/12 [00:00<00:00, 269153.20it/s]\n",
      "100%|██████████| 12/12 [00:00<00:00, 272062.96it/s]\n",
      "100%|██████████| 12/12 [00:00<00:00, 290934.38it/s]\n",
      "100%|██████████| 12/12 [00:00<00:00, 305040.29it/s]\n",
      "100%|██████████| 12/12 [00:00<00:00, 312618.93it/s]\n",
      "100%|██████████| 12/12 [00:00<00:00, 301387.11it/s]\n",
      "100%|██████████| 12/12 [00:00<00:00, 312618.93it/s]\n",
      "100%|██████████| 12/12 [00:00<00:00, 297820.40it/s]\n",
      "100%|██████████| 12/12 [00:00<00:00, 278075.40it/s]\n",
      "100%|██████████| 12/12 [00:00<00:00, 292625.86it/s]\n",
      "100%|██████████| 12/12 [00:00<00:00, 282762.07it/s]\n",
      "100%|██████████| 12/12 [00:00<00:00, 294337.12it/s]\n",
      "100%|██████████| 12/12 [00:00<00:00, 314572.80it/s]\n",
      "100%|██████████| 12/12 [00:00<00:00, 310689.19it/s]\n",
      "100%|██████████| 12/12 [00:00<00:00, 306900.29it/s]\n",
      "100%|██████████| 12/12 [00:00<00:00, 306900.29it/s]\n",
      "100%|██████████| 12/12 [00:00<00:00, 306900.29it/s]\n",
      "100%|██████████| 12/12 [00:00<00:00, 191375.09it/s]\n",
      "100%|██████████| 12/12 [00:00<00:00, 198939.32it/s]\n",
      "100%|██████████| 12/12 [00:00<00:00, 207126.12it/s]\n",
      "100%|██████████| 12/12 [00:00<00:00, 206277.25it/s]\n",
      "100%|██████████| 12/12 [00:00<00:00, 209715.20it/s]\n",
      "100%|██████████| 12/12 [00:00<00:00, 207982.02it/s]\n",
      "100%|██████████| 12/12 [00:00<00:00, 308783.12it/s]\n",
      "100%|██████████| 12/12 [00:00<00:00, 305040.29it/s]\n",
      "100%|██████████| 12/12 [00:00<00:00, 20246.04it/s]\n",
      "100%|██████████| 12/12 [00:00<00:00, 282762.07it/s]\n",
      "100%|██████████| 12/12 [00:00<00:00, 292625.86it/s]\n",
      "100%|██████████| 12/12 [00:00<00:00, 292625.86it/s]\n",
      "100%|██████████| 12/12 [00:00<00:00, 285975.27it/s]\n",
      "100%|██████████| 12/12 [00:00<00:00, 294337.12it/s]\n",
      "100%|██████████| 12/12 [00:00<00:00, 297820.40it/s]\n",
      "100%|██████████| 12/12 [00:00<00:00, 314572.80it/s]\n",
      "100%|██████████| 12/12 [00:00<00:00, 305040.29it/s]\n",
      "100%|██████████| 12/12 [00:00<00:00, 305040.29it/s]\n"
     ]
    }
   ],
   "source": [
    "### 낙동강 slope dataframe\n",
    "nd_al_df = slope_df(nd_al_slope)\n",
    "nd_chla_df = slope_df(nd_chla_slope)\n",
    "nd_bod_df = slope_df(nd_bod_slope)\n",
    "nd_cod_df = slope_df(nd_cod_slope)\n",
    "nd_tn_df = slope_df(nd_tn_slope)\n",
    "nd_tp_df = slope_df(nd_tp_slope)"
   ]
  },
  {
   "cell_type": "code",
   "execution_count": 285,
   "id": "embedded-pride",
   "metadata": {
    "collapsed": true,
    "jupyter": {
     "outputs_hidden": true
    }
   },
   "outputs": [
    {
     "name": "stderr",
     "output_type": "stream",
     "text": [
      "100%|██████████| 12/12 [00:00<00:00, 159277.37it/s]\n",
      "100%|██████████| 12/12 [00:00<00:00, 120410.64it/s]\n",
      "100%|██████████| 12/12 [00:00<00:00, 201326.59it/s]\n",
      "100%|██████████| 12/12 [00:00<00:00, 195842.99it/s]\n",
      "100%|██████████| 12/12 [00:00<00:00, 200524.49it/s]\n",
      "100%|██████████| 12/12 [00:00<00:00, 192841.56it/s]\n",
      "100%|██████████| 12/12 [00:00<00:00, 202950.19it/s]\n",
      "100%|██████████| 12/12 [00:00<00:00, 204600.20it/s]\n",
      "100%|██████████| 12/12 [00:00<00:00, 204600.20it/s]\n",
      "100%|██████████| 12/12 [00:00<00:00, 136400.13it/s]\n",
      "100%|██████████| 12/12 [00:00<00:00, 294337.12it/s]\n",
      "100%|██████████| 12/12 [00:00<00:00, 299593.14it/s]\n",
      "100%|██████████| 12/12 [00:00<00:00, 306900.29it/s]\n",
      "100%|██████████| 12/12 [00:00<00:00, 306900.29it/s]\n",
      "100%|██████████| 12/12 [00:00<00:00, 306900.29it/s]\n",
      "100%|██████████| 12/12 [00:00<00:00, 281182.39it/s]\n",
      "100%|██████████| 12/12 [00:00<00:00, 9754.20it/s]\n",
      "100%|██████████| 12/12 [00:00<00:00, 294337.12it/s]\n",
      "100%|██████████| 12/12 [00:00<00:00, 262144.00it/s]\n",
      "100%|██████████| 12/12 [00:00<00:00, 292625.86it/s]\n",
      "100%|██████████| 12/12 [00:00<00:00, 17592.33it/s]\n",
      "100%|██████████| 12/12 [00:00<00:00, 303202.70it/s]\n",
      "100%|██████████| 12/12 [00:00<00:00, 301387.11it/s]\n",
      "100%|██████████| 12/12 [00:00<00:00, 308783.12it/s]\n",
      "100%|██████████| 12/12 [00:00<00:00, 12198.65it/s]\n",
      "100%|██████████| 12/12 [00:00<00:00, 301387.11it/s]\n",
      "100%|██████████| 12/12 [00:00<00:00, 305040.29it/s]\n",
      "100%|██████████| 12/12 [00:00<00:00, 259441.48it/s]\n",
      "100%|██████████| 12/12 [00:00<00:00, 290934.38it/s]\n",
      "100%|██████████| 12/12 [00:00<00:00, 310689.19it/s]\n",
      "100%|██████████| 12/12 [00:00<00:00, 305040.29it/s]\n",
      "100%|██████████| 12/12 [00:00<00:00, 310689.19it/s]\n",
      "100%|██████████| 12/12 [00:00<00:00, 305040.29it/s]\n",
      "100%|██████████| 12/12 [00:00<00:00, 13175.82it/s]\n",
      "100%|██████████| 12/12 [00:00<00:00, 305040.29it/s]\n",
      "100%|██████████| 12/12 [00:00<00:00, 172960.99it/s]\n",
      "100%|██████████| 12/12 [00:00<00:00, 192841.56it/s]\n",
      "100%|██████████| 12/12 [00:00<00:00, 198939.32it/s]\n",
      "100%|██████████| 12/12 [00:00<00:00, 195083.91it/s]\n",
      "100%|██████████| 12/12 [00:00<00:00, 208845.01it/s]\n",
      "100%|██████████| 12/12 [00:00<00:00, 212369.82it/s]\n",
      "100%|██████████| 12/12 [00:00<00:00, 292625.86it/s]\n",
      "100%|██████████| 12/12 [00:00<00:00, 292625.86it/s]\n",
      "100%|██████████| 12/12 [00:00<00:00, 290934.38it/s]\n",
      "100%|██████████| 12/12 [00:00<00:00, 15228.94it/s]\n",
      "100%|██████████| 12/12 [00:00<00:00, 287609.42it/s]\n",
      "100%|██████████| 12/12 [00:00<00:00, 287609.42it/s]\n",
      "100%|██████████| 12/12 [00:00<00:00, 287609.42it/s]\n",
      "100%|██████████| 12/12 [00:00<00:00, 12573.48it/s]\n",
      "100%|██████████| 12/12 [00:00<00:00, 310689.19it/s]\n",
      "100%|██████████| 12/12 [00:00<00:00, 303202.70it/s]\n",
      "100%|██████████| 12/12 [00:00<00:00, 303202.70it/s]\n",
      "100%|██████████| 12/12 [00:00<00:00, 299593.14it/s]\n",
      "100%|██████████| 12/12 [00:00<00:00, 306900.29it/s]\n"
     ]
    }
   ],
   "source": [
    "### 낙동강 p_value dataframe\n",
    "nd_al_p_df = slope_df(nd_al_p)\n",
    "nd_chla_p_df = slope_df(nd_chla_p)\n",
    "nd_bod_p_df = slope_df(nd_bod_p)\n",
    "nd_cod_p_df = slope_df(nd_cod_p)\n",
    "nd_tn_p_df = slope_df(nd_tn_p)\n",
    "nd_tp_p_df = slope_df(nd_tp_p)"
   ]
  },
  {
   "cell_type": "code",
   "execution_count": 256,
   "id": "reserved-hollywood",
   "metadata": {
    "collapsed": true,
    "jupyter": {
     "outputs_hidden": true
    }
   },
   "outputs": [
    {
     "name": "stderr",
     "output_type": "stream",
     "text": [
      "100%|██████████| 12/12 [00:00<00:00, 152520.15it/s]\n",
      "100%|██████████| 12/12 [00:00<00:00, 147168.56it/s]\n",
      "100%|██████████| 12/12 [00:00<00:00, 156309.47it/s]\n",
      "100%|██████████| 12/12 [00:00<00:00, 28024.30it/s]\n",
      "100%|██████████| 12/12 [00:00<00:00, 201326.59it/s]\n",
      "100%|██████████| 12/12 [00:00<00:00, 296068.52it/s]\n",
      "100%|██████████| 12/12 [00:00<00:00, 301387.11it/s]\n",
      "100%|██████████| 12/12 [00:00<00:00, 301387.11it/s]\n",
      "100%|██████████| 12/12 [00:00<00:00, 303202.70it/s]\n",
      "100%|██████████| 12/12 [00:00<00:00, 278075.40it/s]\n",
      "100%|██████████| 12/12 [00:00<00:00, 273541.57it/s]\n",
      "100%|██████████| 12/12 [00:00<00:00, 285975.27it/s]\n",
      "100%|██████████| 12/12 [00:00<00:00, 190650.18it/s]\n",
      "100%|██████████| 12/12 [00:00<00:00, 197379.01it/s]\n",
      "100%|██████████| 12/12 [00:00<00:00, 207982.02it/s]\n",
      "100%|██████████| 12/12 [00:00<00:00, 197379.01it/s]\n",
      "100%|██████████| 12/12 [00:00<00:00, 212369.82it/s]\n",
      "100%|██████████| 12/12 [00:00<00:00, 211477.51it/s]\n",
      "100%|██████████| 12/12 [00:00<00:00, 275036.33it/s]\n",
      "100%|██████████| 12/12 [00:00<00:00, 296068.52it/s]\n",
      "100%|██████████| 12/12 [00:00<00:00, 250406.21it/s]\n",
      "100%|██████████| 12/12 [00:00<00:00, 301387.11it/s]\n",
      "100%|██████████| 12/12 [00:00<00:00, 305040.29it/s]\n",
      "100%|██████████| 12/12 [00:00<00:00, 308783.12it/s]\n",
      "100%|██████████| 12/12 [00:00<00:00, 305040.29it/s]\n",
      "100%|██████████| 12/12 [00:00<00:00, 296068.52it/s]\n",
      "100%|██████████| 12/12 [00:00<00:00, 308783.12it/s]\n",
      "100%|██████████| 12/12 [00:00<00:00, 276547.52it/s]\n",
      "100%|██████████| 12/12 [00:00<00:00, 284359.59it/s]\n",
      "100%|██████████| 12/12 [00:00<00:00, 294337.12it/s]\n",
      "100%|██████████| 12/12 [00:00<00:00, 31536.12it/s]\n",
      "100%|██████████| 12/12 [00:00<00:00, 221725.32it/s]\n",
      "100%|██████████| 12/12 [00:00<00:00, 172368.66it/s]\n",
      "100%|██████████| 12/12 [00:00<00:00, 162360.15it/s]\n",
      "100%|██████████| 12/12 [00:00<00:00, 174157.95it/s]\n",
      "100%|██████████| 12/12 [00:00<00:00, 180400.17it/s]\n",
      "100%|██████████| 12/12 [00:00<00:00, 197379.01it/s]\n",
      "100%|██████████| 12/12 [00:00<00:00, 162885.59it/s]\n",
      "100%|██████████| 12/12 [00:00<00:00, 208845.01it/s]\n",
      "100%|██████████| 12/12 [00:00<00:00, 208845.01it/s]\n",
      "100%|██████████| 12/12 [00:00<00:00, 306900.29it/s]\n",
      "100%|██████████| 12/12 [00:00<00:00, 180400.17it/s]\n",
      "100%|██████████| 12/12 [00:00<00:00, 70295.60it/s]\n",
      "100%|██████████| 12/12 [00:00<00:00, 241979.08it/s]\n",
      "100%|██████████| 12/12 [00:00<00:00, 314572.80it/s]\n",
      "100%|██████████| 12/12 [00:00<00:00, 278075.40it/s]\n",
      "100%|██████████| 12/12 [00:00<00:00, 241979.08it/s]\n",
      "100%|██████████| 12/12 [00:00<00:00, 213269.69it/s]\n",
      "100%|██████████| 12/12 [00:00<00:00, 259441.48it/s]\n",
      "100%|██████████| 12/12 [00:00<00:00, 282762.07it/s]\n",
      "100%|██████████| 12/12 [00:00<00:00, 276547.52it/s]\n",
      "100%|██████████| 12/12 [00:00<00:00, 306900.29it/s]\n",
      "100%|██████████| 12/12 [00:00<00:00, 282762.07it/s]\n",
      "100%|██████████| 12/12 [00:00<00:00, 308783.12it/s]\n"
     ]
    }
   ],
   "source": [
    "### 낙동강(chla, algae) 3등분(상류, 중류, 하류) slope dataframe\n",
    "nd_al_up_df = slope_df(nd_al_up_slope)\n",
    "nd_al_mid_df = slope_df(nd_al_mid_slope)\n",
    "nd_al_do_df = slope_df(nd_al_do_slope)\n",
    "\n",
    "nd_chla_up_df = slope_df(nd_chla_up_slope)\n",
    "nd_chla_mid_df = slope_df(nd_chla_mid_slope)\n",
    "nd_chla_do_df = slope_df(nd_chla_do_slope)"
   ]
  },
  {
   "cell_type": "code",
   "execution_count": 208,
   "id": "suited-reset",
   "metadata": {
    "collapsed": true,
    "jupyter": {
     "outputs_hidden": true
    }
   },
   "outputs": [
    {
     "name": "stderr",
     "output_type": "stream",
     "text": [
      "100%|██████████| 12/12 [00:00<00:00, 158275.62it/s]\n",
      "100%|██████████| 12/12 [00:00<00:00, 192841.56it/s]\n",
      "100%|██████████| 12/12 [00:00<00:00, 200524.49it/s]\n",
      "100%|██████████| 12/12 [00:00<00:00, 198939.32it/s]\n",
      "100%|██████████| 12/12 [00:00<00:00, 202950.19it/s]\n",
      "100%|██████████| 12/12 [00:00<00:00, 198156.09it/s]\n",
      "100%|██████████| 12/12 [00:00<00:00, 297820.40it/s]\n",
      "100%|██████████| 12/12 [00:00<00:00, 310689.19it/s]\n",
      "100%|██████████| 12/12 [00:00<00:00, 306900.29it/s]\n",
      "100%|██████████| 12/12 [00:00<00:00, 267721.53it/s]\n",
      "100%|██████████| 12/12 [00:00<00:00, 292625.86it/s]\n",
      "100%|██████████| 12/12 [00:00<00:00, 187106.50it/s]\n",
      "100%|██████████| 12/12 [00:00<00:00, 201326.59it/s]\n",
      "100%|██████████| 12/12 [00:00<00:00, 202950.19it/s]\n",
      "100%|██████████| 12/12 [00:00<00:00, 200524.49it/s]\n",
      "100%|██████████| 12/12 [00:00<00:00, 209715.20it/s]\n",
      "100%|██████████| 12/12 [00:00<00:00, 202135.13it/s]\n",
      "100%|██████████| 12/12 [00:00<00:00, 209715.20it/s]\n",
      "100%|██████████| 12/12 [00:00<00:00, 188508.04it/s]\n",
      "100%|██████████| 12/12 [00:00<00:00, 195842.99it/s]\n",
      "100%|██████████| 12/12 [00:00<00:00, 205435.30it/s]\n",
      "100%|██████████| 12/12 [00:00<00:00, 201326.59it/s]\n",
      "100%|██████████| 12/12 [00:00<00:00, 205435.30it/s]\n",
      "100%|██████████| 12/12 [00:00<00:00, 301387.11it/s]\n",
      "100%|██████████| 12/12 [00:00<00:00, 296068.52it/s]\n",
      "100%|██████████| 12/12 [00:00<00:00, 287609.42it/s]\n",
      "100%|██████████| 12/12 [00:00<00:00, 299593.14it/s]\n",
      "100%|██████████| 12/12 [00:00<00:00, 213269.69it/s]\n",
      "100%|██████████| 12/12 [00:00<00:00, 262144.00it/s]\n",
      "100%|██████████| 12/12 [00:00<00:00, 262144.00it/s]\n",
      "100%|██████████| 12/12 [00:00<00:00, 269153.20it/s]\n",
      "100%|██████████| 12/12 [00:00<00:00, 272062.96it/s]\n",
      "100%|██████████| 12/12 [00:00<00:00, 279620.27it/s]\n",
      "100%|██████████| 12/12 [00:00<00:00, 263516.48it/s]\n",
      "100%|██████████| 12/12 [00:00<00:00, 272062.96it/s]\n",
      "100%|██████████| 12/12 [00:00<00:00, 266305.02it/s]\n",
      "100%|██████████| 12/12 [00:00<00:00, 245520.23it/s]\n",
      "100%|██████████| 12/12 [00:00<00:00, 224694.86it/s]\n",
      "100%|██████████| 12/12 [00:00<00:00, 270600.26it/s]\n",
      "100%|██████████| 12/12 [00:00<00:00, 303202.70it/s]\n",
      "100%|██████████| 12/12 [00:00<00:00, 281182.39it/s]\n",
      "100%|██████████| 12/12 [00:00<00:00, 297820.40it/s]\n",
      "100%|██████████| 12/12 [00:00<00:00, 297820.40it/s]\n",
      "100%|██████████| 12/12 [00:00<00:00, 285975.27it/s]\n",
      "100%|██████████| 12/12 [00:00<00:00, 303202.70it/s]\n",
      "100%|██████████| 12/12 [00:00<00:00, 282762.07it/s]\n",
      "100%|██████████| 12/12 [00:00<00:00, 299593.14it/s]\n",
      "100%|██████████| 12/12 [00:00<00:00, 303202.70it/s]\n",
      "100%|██████████| 12/12 [00:00<00:00, 278075.40it/s]\n",
      "100%|██████████| 12/12 [00:00<00:00, 310689.19it/s]\n",
      "100%|██████████| 12/12 [00:00<00:00, 310689.19it/s]\n",
      "100%|██████████| 12/12 [00:00<00:00, 308783.12it/s]\n",
      "100%|██████████| 12/12 [00:00<00:00, 303202.70it/s]\n",
      "100%|██████████| 12/12 [00:00<00:00, 243148.06it/s]\n"
     ]
    }
   ],
   "source": [
    "### 영산강 slope dataframe\n",
    "ys_al_df = slope_df(ys_al_slope)\n",
    "ys_chla_df = slope_df(ys_chla_slope)\n",
    "ys_bod_df = slope_df(ys_bod_slope)\n",
    "ys_cod_df = slope_df(ys_cod_slope)\n",
    "ys_tn_df = slope_df(ys_tn_slope)\n",
    "ys_tp_df = slope_df(ys_tp_slope)"
   ]
  },
  {
   "cell_type": "code",
   "execution_count": 286,
   "id": "rising-comfort",
   "metadata": {
    "collapsed": true,
    "jupyter": {
     "outputs_hidden": true
    }
   },
   "outputs": [
    {
     "name": "stderr",
     "output_type": "stream",
     "text": [
      "100%|██████████| 12/12 [00:00<00:00, 149352.07it/s]\n",
      "100%|██████████| 12/12 [00:00<00:00, 179755.89it/s]\n",
      "100%|██████████| 12/12 [00:00<00:00, 193583.26it/s]\n",
      "100%|██████████| 12/12 [00:00<00:00, 195083.91it/s]\n",
      "100%|██████████| 12/12 [00:00<00:00, 170039.35it/s]\n",
      "100%|██████████| 12/12 [00:00<00:00, 148910.20it/s]\n",
      "100%|██████████| 12/12 [00:00<00:00, 279620.27it/s]\n",
      "100%|██████████| 12/12 [00:00<00:00, 305040.29it/s]\n",
      "100%|██████████| 12/12 [00:00<00:00, 267721.53it/s]\n",
      "100%|██████████| 12/12 [00:00<00:00, 262144.00it/s]\n",
      "100%|██████████| 12/12 [00:00<00:00, 231943.08it/s]\n",
      "100%|██████████| 12/12 [00:00<00:00, 292625.86it/s]\n",
      "100%|██████████| 12/12 [00:00<00:00, 292625.86it/s]\n",
      "100%|██████████| 12/12 [00:00<00:00, 305040.29it/s]\n",
      "100%|██████████| 12/12 [00:00<00:00, 285975.27it/s]\n",
      "100%|██████████| 12/12 [00:00<00:00, 301387.11it/s]\n",
      "100%|██████████| 12/12 [00:00<00:00, 297820.40it/s]\n",
      "100%|██████████| 12/12 [00:00<00:00, 270600.26it/s]\n",
      "100%|██████████| 12/12 [00:00<00:00, 275036.33it/s]\n",
      "100%|██████████| 12/12 [00:00<00:00, 301387.11it/s]\n",
      "100%|██████████| 12/12 [00:00<00:00, 273541.57it/s]\n",
      "100%|██████████| 12/12 [00:00<00:00, 297820.40it/s]\n",
      "100%|██████████| 12/12 [00:00<00:00, 299593.14it/s]\n",
      "100%|██████████| 12/12 [00:00<00:00, 303202.70it/s]\n",
      "100%|██████████| 12/12 [00:00<00:00, 306900.29it/s]\n",
      "100%|██████████| 12/12 [00:00<00:00, 259441.48it/s]\n",
      "100%|██████████| 12/12 [00:00<00:00, 301387.11it/s]\n",
      "100%|██████████| 12/12 [00:00<00:00, 284359.59it/s]\n",
      "100%|██████████| 12/12 [00:00<00:00, 303202.70it/s]\n",
      "100%|██████████| 12/12 [00:00<00:00, 289262.34it/s]\n",
      "100%|██████████| 12/12 [00:00<00:00, 296068.52it/s]\n",
      "100%|██████████| 12/12 [00:00<00:00, 303202.70it/s]\n",
      "100%|██████████| 12/12 [00:00<00:00, 310689.19it/s]\n",
      "100%|██████████| 12/12 [00:00<00:00, 296068.52it/s]\n",
      "100%|██████████| 12/12 [00:00<00:00, 229824.88it/s]\n",
      "100%|██████████| 12/12 [00:00<00:00, 281182.39it/s]\n",
      "100%|██████████| 12/12 [00:00<00:00, 258111.02it/s]\n",
      "100%|██████████| 12/12 [00:00<00:00, 185042.82it/s]\n",
      "100%|██████████| 12/12 [00:00<00:00, 285975.27it/s]\n",
      "100%|██████████| 12/12 [00:00<00:00, 292625.86it/s]\n",
      "100%|██████████| 12/12 [00:00<00:00, 296068.52it/s]\n",
      "100%|██████████| 12/12 [00:00<00:00, 289262.34it/s]\n",
      "100%|██████████| 12/12 [00:00<00:00, 220752.84it/s]\n",
      "100%|██████████| 12/12 [00:00<00:00, 171196.08it/s]\n",
      "100%|██████████| 12/12 [00:00<00:00, 178481.02it/s]\n",
      "100%|██████████| 12/12 [00:00<00:00, 195083.91it/s]\n",
      "100%|██████████| 12/12 [00:00<00:00, 203771.85it/s]\n",
      "100%|██████████| 12/12 [00:00<00:00, 207126.12it/s]\n",
      "100%|██████████| 12/12 [00:00<00:00, 206277.25it/s]\n",
      "100%|██████████| 12/12 [00:00<00:00, 305040.29it/s]\n",
      "100%|██████████| 12/12 [00:00<00:00, 318554.73it/s]\n",
      "100%|██████████| 12/12 [00:00<00:00, 254200.24it/s]\n",
      "100%|██████████| 12/12 [00:00<00:00, 303202.70it/s]\n",
      "100%|██████████| 12/12 [00:00<00:00, 305040.29it/s]\n"
     ]
    }
   ],
   "source": [
    "### 영산강 p_value dataframe\n",
    "ys_al_p_df = slope_df(ys_al_p)\n",
    "ys_chla_p_df = slope_df(ys_chla_p)\n",
    "ys_bod_p_df = slope_df(ys_bod_p)\n",
    "ys_cod_p_df = slope_df(ys_cod_p)\n",
    "ys_tn_p_df = slope_df(ys_tn_p)\n",
    "ys_tp_p_df = slope_df(ys_tp_p)"
   ]
  },
  {
   "cell_type": "code",
   "execution_count": 297,
   "id": "lightweight-stand",
   "metadata": {
    "collapsed": true,
    "jupyter": {
     "outputs_hidden": true
    }
   },
   "outputs": [
    {
     "name": "stderr",
     "output_type": "stream",
     "text": [
      "100%|██████████| 12/12 [00:00<00:00, 157286.40it/s]\n",
      "100%|██████████| 12/12 [00:00<00:00, 198939.32it/s]\n",
      "100%|██████████| 12/12 [00:00<00:00, 198156.09it/s]\n",
      "100%|██████████| 12/12 [00:00<00:00, 195083.91it/s]\n",
      "100%|██████████| 12/12 [00:00<00:00, 198156.09it/s]\n",
      "100%|██████████| 12/12 [00:00<00:00, 164482.51it/s]\n",
      "100%|██████████| 12/12 [00:00<00:00, 157779.46it/s]\n",
      "100%|██████████| 12/12 [00:00<00:00, 267721.53it/s]\n",
      "100%|██████████| 12/12 [00:00<00:00, 305040.29it/s]\n",
      "100%|██████████| 12/12 [00:00<00:00, 237413.43it/s]\n",
      "100%|██████████| 12/12 [00:00<00:00, 284359.59it/s]\n",
      "100%|██████████| 12/12 [00:00<00:00, 306900.29it/s]\n",
      "100%|██████████| 12/12 [00:00<00:00, 306900.29it/s]\n",
      "100%|██████████| 12/12 [00:00<00:00, 308783.12it/s]\n",
      "100%|██████████| 12/12 [00:00<00:00, 297820.40it/s]\n",
      "100%|██████████| 12/12 [00:00<00:00, 250406.21it/s]\n",
      "100%|██████████| 12/12 [00:00<00:00, 297820.40it/s]\n",
      "100%|██████████| 12/12 [00:00<00:00, 305040.29it/s]\n",
      "100%|██████████| 12/12 [00:00<00:00, 279620.27it/s]\n",
      "100%|██████████| 12/12 [00:00<00:00, 306900.29it/s]\n",
      "100%|██████████| 12/12 [00:00<00:00, 312618.93it/s]\n",
      "100%|██████████| 12/12 [00:00<00:00, 249166.57it/s]\n",
      "100%|██████████| 12/12 [00:00<00:00, 308783.12it/s]\n",
      "100%|██████████| 12/12 [00:00<00:00, 299593.14it/s]\n",
      "100%|██████████| 12/12 [00:00<00:00, 305040.29it/s]\n",
      "100%|██████████| 12/12 [00:00<00:00, 308783.12it/s]\n",
      "100%|██████████| 12/12 [00:00<00:00, 310689.19it/s]\n",
      "100%|██████████| 12/12 [00:00<00:00, 290934.38it/s]\n",
      "100%|██████████| 12/12 [00:00<00:00, 299593.14it/s]\n",
      "100%|██████████| 12/12 [00:00<00:00, 273541.57it/s]\n",
      "100%|██████████| 12/12 [00:00<00:00, 305040.29it/s]\n",
      "100%|██████████| 12/12 [00:00<00:00, 308783.12it/s]\n",
      "100%|██████████| 12/12 [00:00<00:00, 299593.14it/s]\n",
      "100%|██████████| 12/12 [00:00<00:00, 299593.14it/s]\n",
      "100%|██████████| 12/12 [00:00<00:00, 207982.02it/s]\n",
      "100%|██████████| 12/12 [00:00<00:00, 306900.29it/s]\n",
      "100%|██████████| 12/12 [00:00<00:00, 270600.26it/s]\n",
      "100%|██████████| 12/12 [00:00<00:00, 310689.19it/s]\n",
      "100%|██████████| 12/12 [00:00<00:00, 312618.93it/s]\n",
      "100%|██████████| 12/12 [00:00<00:00, 316551.25it/s]\n",
      "100%|██████████| 12/12 [00:00<00:00, 312618.93it/s]\n",
      "100%|██████████| 12/12 [00:00<00:00, 285975.27it/s]\n",
      "100%|██████████| 12/12 [00:00<00:00, 297820.40it/s]\n",
      "100%|██████████| 12/12 [00:00<00:00, 310689.19it/s]\n",
      "100%|██████████| 12/12 [00:00<00:00, 292625.86it/s]\n",
      "100%|██████████| 12/12 [00:00<00:00, 287609.42it/s]\n",
      "100%|██████████| 12/12 [00:00<00:00, 168333.27it/s]\n",
      "100%|██████████| 12/12 [00:00<00:00, 196608.00it/s]\n",
      "100%|██████████| 12/12 [00:00<00:00, 161838.10it/s]\n",
      "100%|██████████| 12/12 [00:00<00:00, 202950.19it/s]\n",
      "100%|██████████| 12/12 [00:00<00:00, 193583.26it/s]\n",
      "100%|██████████| 12/12 [00:00<00:00, 207126.12it/s]\n",
      "100%|██████████| 12/12 [00:00<00:00, 193583.26it/s]\n",
      "100%|██████████| 12/12 [00:00<00:00, 213269.69it/s]\n"
     ]
    }
   ],
   "source": [
    "### 금강 slope dataframe\n",
    "gg_al_df = slope_df(gg_al_slope)\n",
    "gg_chla_df = slope_df(gg_chla_slope)\n",
    "gg_bod_df = slope_df(gg_bod_slope)\n",
    "gg_cod_df = slope_df(gg_cod_slope)\n",
    "gg_tn_df = slope_df(gg_tn_slope)\n",
    "gg_tp_df = slope_df(gg_tp_slope)"
   ]
  },
  {
   "cell_type": "code",
   "execution_count": 298,
   "id": "different-proof",
   "metadata": {
    "collapsed": true,
    "jupyter": {
     "outputs_hidden": true
    }
   },
   "outputs": [
    {
     "name": "stderr",
     "output_type": "stream",
     "text": [
      "100%|██████████| 12/12 [00:00<00:00, 155344.59it/s]\n",
      "100%|██████████| 12/12 [00:00<00:00, 192105.53it/s]\n",
      "100%|██████████| 12/12 [00:00<00:00, 194330.69it/s]\n",
      "100%|██████████| 12/12 [00:00<00:00, 168333.27it/s]\n",
      "100%|██████████| 12/12 [00:00<00:00, 169466.83it/s]\n",
      "100%|██████████| 12/12 [00:00<00:00, 202950.19it/s]\n",
      "100%|██████████| 12/12 [00:00<00:00, 199728.76it/s]\n",
      "100%|██████████| 12/12 [00:00<00:00, 297820.40it/s]\n",
      "100%|██████████| 12/12 [00:00<00:00, 303202.70it/s]\n",
      "100%|██████████| 12/12 [00:00<00:00, 267721.53it/s]\n",
      "100%|██████████| 12/12 [00:00<00:00, 278075.40it/s]\n",
      "100%|██████████| 12/12 [00:00<00:00, 279620.27it/s]\n",
      "100%|██████████| 12/12 [00:00<00:00, 230879.12it/s]\n",
      "100%|██████████| 12/12 [00:00<00:00, 306900.29it/s]\n",
      "100%|██████████| 12/12 [00:00<00:00, 308783.12it/s]\n",
      "100%|██████████| 12/12 [00:00<00:00, 285975.27it/s]\n",
      "100%|██████████| 12/12 [00:00<00:00, 312618.93it/s]\n",
      "100%|██████████| 12/12 [00:00<00:00, 238538.62it/s]\n",
      "100%|██████████| 12/12 [00:00<00:00, 279620.27it/s]\n",
      "100%|██████████| 12/12 [00:00<00:00, 305040.29it/s]\n",
      "100%|██████████| 12/12 [00:00<00:00, 279620.27it/s]\n",
      "100%|██████████| 12/12 [00:00<00:00, 287609.42it/s]\n",
      "100%|██████████| 12/12 [00:00<00:00, 306900.29it/s]\n",
      "100%|██████████| 12/12 [00:00<00:00, 284359.59it/s]\n",
      "100%|██████████| 12/12 [00:00<00:00, 301387.11it/s]\n",
      "100%|██████████| 12/12 [00:00<00:00, 200524.49it/s]\n",
      "100%|██████████| 12/12 [00:00<00:00, 312618.93it/s]\n",
      "100%|██████████| 12/12 [00:00<00:00, 246723.76it/s]\n",
      "100%|██████████| 12/12 [00:00<00:00, 240821.28it/s]\n",
      "100%|██████████| 12/12 [00:00<00:00, 260785.74it/s]\n",
      "100%|██████████| 12/12 [00:00<00:00, 287609.42it/s]\n",
      "100%|██████████| 12/12 [00:00<00:00, 308783.12it/s]\n",
      "100%|██████████| 12/12 [00:00<00:00, 292625.86it/s]\n",
      "100%|██████████| 12/12 [00:00<00:00, 310689.19it/s]\n",
      "100%|██████████| 12/12 [00:00<00:00, 263516.48it/s]\n",
      "100%|██████████| 12/12 [00:00<00:00, 312618.93it/s]\n",
      "100%|██████████| 12/12 [00:00<00:00, 266305.02it/s]\n",
      "100%|██████████| 12/12 [00:00<00:00, 285975.27it/s]\n",
      "100%|██████████| 12/12 [00:00<00:00, 287609.42it/s]\n",
      "100%|██████████| 12/12 [00:00<00:00, 299593.14it/s]\n",
      "100%|██████████| 12/12 [00:00<00:00, 306900.29it/s]\n",
      "100%|██████████| 12/12 [00:00<00:00, 306900.29it/s]\n",
      "100%|██████████| 12/12 [00:00<00:00, 223696.21it/s]\n",
      "100%|██████████| 12/12 [00:00<00:00, 230879.12it/s]\n",
      "100%|██████████| 12/12 [00:00<00:00, 297820.40it/s]\n",
      "100%|██████████| 12/12 [00:00<00:00, 287609.42it/s]\n",
      "100%|██████████| 12/12 [00:00<00:00, 296068.52it/s]\n",
      "100%|██████████| 12/12 [00:00<00:00, 34855.71it/s]\n",
      "100%|██████████| 12/12 [00:00<00:00, 292625.86it/s]\n",
      "100%|██████████| 12/12 [00:00<00:00, 310689.19it/s]\n",
      "100%|██████████| 12/12 [00:00<00:00, 301387.11it/s]\n",
      "100%|██████████| 12/12 [00:00<00:00, 306900.29it/s]\n",
      "100%|██████████| 12/12 [00:00<00:00, 303202.70it/s]\n",
      "100%|██████████| 12/12 [00:00<00:00, 303202.70it/s]\n"
     ]
    }
   ],
   "source": [
    "### 금강 p_value dataframe\n",
    "gg_al_p_df = slope_df(gg_al_p)\n",
    "gg_chla_p_df = slope_df(gg_chla_p)\n",
    "gg_bod_p_df = slope_df(gg_bod_p)\n",
    "gg_cod_p_df = slope_df(gg_cod_p)\n",
    "gg_tn_p_df = slope_df(gg_tn_p)\n",
    "gg_tp_p_df = slope_df(gg_tp_p)"
   ]
  },
  {
   "cell_type": "code",
   "execution_count": 216,
   "id": "gentle-toner",
   "metadata": {},
   "outputs": [],
   "source": [
    "gg_al_df.to_csv('./slope_output/gg_al.csv', encoding = 'CP949')\n",
    "gg_chla_df.to_csv('./slope_output/gg_chla.csv', encoding = 'CP949')\n",
    "gg_bod_df.to_csv('./slope_output/gg_bod.csv', encoding = 'CP949')\n",
    "gg_cod_df.to_csv('./slope_output/gg_cod.csv', encoding = 'CP949')\n",
    "gg_tn_df.to_csv('./slope_output/gg_tn.csv', encoding = 'CP949')\n",
    "gg_tp_df.to_csv('./slope_output/gg_tp.csv', encoding = 'CP949')\n",
    "\n",
    "ys_al_df.to_csv('./slope_output/ys_al.csv', encoding = 'CP949')\n",
    "ys_chla_df.to_csv('./slope_output/ys_chla.csv', encoding = 'CP949')\n",
    "ys_bod_df.to_csv('./slope_output/ys_bod.csv', encoding = 'CP949')\n",
    "ys_cod_df.to_csv('./slope_output/ys_cod.csv', encoding = 'CP949')\n",
    "ys_tn_df.to_csv('./slope_output/ys_tn.csv', encoding = 'CP949')\n",
    "ys_tp_df.to_csv('./slope_output/ys_tp.csv', encoding = 'CP949')\n",
    "\n",
    "nd_al_df.to_csv('./slope_output/nd_al.csv', encoding = 'CP949')\n",
    "nd_chla_df.to_csv('./slope_output/nd_chla.csv', encoding = 'CP949')\n",
    "nd_bod_df.to_csv('./slope_output/nd_bod.csv', encoding = 'CP949')\n",
    "nd_cod_df.to_csv('./slope_output/nd_cod.csv', encoding = 'CP949')\n",
    "nd_tn_df.to_csv('./slope_output/nd_tn.csv', encoding = 'CP949')\n",
    "nd_tp_df.to_csv('./slope_output/nd_tp.csv', encoding = 'CP949')"
   ]
  },
  {
   "cell_type": "code",
   "execution_count": 288,
   "id": "above-bargain",
   "metadata": {},
   "outputs": [],
   "source": [
    "gg_al_p_df.to_csv('./p_value/gg_al.csv', encoding = 'CP949')\n",
    "gg_chla_p_df.to_csv('./p_value/gg_chla.csv', encoding = 'CP949')\n",
    "gg_bod_p_df.to_csv('./p_value/gg_bod.csv', encoding = 'CP949')\n",
    "gg_cod_p_df.to_csv('./p_value/gg_cod.csv', encoding = 'CP949')\n",
    "gg_tn_p_df.to_csv('./p_value/gg_tn.csv', encoding = 'CP949')\n",
    "gg_tp_p_df.to_csv('./p_value/gg_tp.csv', encoding = 'CP949')\n",
    "\n",
    "ys_al_p_df.to_csv('./p_value/ys_al.csv', encoding = 'CP949')\n",
    "ys_chla_p_df.to_csv('./p_value/ys_chla.csv', encoding = 'CP949')\n",
    "ys_bod_p_df.to_csv('./p_value/ys_bod.csv', encoding = 'CP949')\n",
    "ys_cod_p_df.to_csv('./p_value/ys_cod.csv', encoding = 'CP949')\n",
    "ys_tn_p_df.to_csv('./p_value/ys_tn.csv', encoding = 'CP949')\n",
    "ys_tp_p_df.to_csv('./p_value/ys_tp.csv', encoding = 'CP949')\n",
    "\n",
    "nd_al_p_df.to_csv('./p_value/nd_al.csv', encoding = 'CP949')\n",
    "nd_chla_p_df.to_csv('./p_value/nd_chla.csv', encoding = 'CP949')\n",
    "nd_bod_p_df.to_csv('./p_value/nd_bod.csv', encoding = 'CP949')\n",
    "nd_cod_p_df.to_csv('./p_value/nd_cod.csv', encoding = 'CP949')\n",
    "nd_tn_p_df.to_csv('./p_value/nd_tn.csv', encoding = 'CP949')\n",
    "nd_tp_p_df.to_csv('./p_value/nd_tp.csv', encoding = 'CP949')"
   ]
  },
  {
   "cell_type": "code",
   "execution_count": 299,
   "id": "desperate-taiwan",
   "metadata": {},
   "outputs": [],
   "source": [
    "gg_al_p_df.to_csv('./p_value/gg_al.csv', encoding = 'CP949')\n",
    "gg_chla_p_df.to_csv('./p_value/gg_chla.csv', encoding = 'CP949')\n",
    "gg_bod_p_df.to_csv('./p_value/gg_bod.csv', encoding = 'CP949')\n",
    "gg_cod_p_df.to_csv('./p_value/gg_cod.csv', encoding = 'CP949')\n",
    "gg_tn_p_df.to_csv('./p_value/gg_tn.csv', encoding = 'CP949')\n",
    "gg_tp_p_df.to_csv('./p_value/gg_tp.csv', encoding = 'CP949')\n",
    "\n",
    "gg_al_df.to_csv('./slope_output/gg_al.csv', encoding = 'CP949')\n",
    "gg_chla_df.to_csv('./slope_output/gg_chla.csv', encoding = 'CP949')\n",
    "gg_bod_df.to_csv('./slope_output/gg_bod.csv', encoding = 'CP949')\n",
    "gg_cod_df.to_csv('./slope_output/gg_cod.csv', encoding = 'CP949')\n",
    "gg_tn_df.to_csv('./slope_output/gg_tn.csv', encoding = 'CP949')\n",
    "gg_tp_df.to_csv('./slope_output/gg_tp.csv', encoding = 'CP949')"
   ]
  },
  {
   "cell_type": "code",
   "execution_count": 257,
   "id": "novel-composition",
   "metadata": {},
   "outputs": [],
   "source": [
    "nd_al_up_df.to_csv('./slope_div/nd_al_up.csv', encoding = 'CP949')\n",
    "nd_al_mid_df.to_csv('./slope_div/nd_al_mid.csv', encoding = 'CP949')\n",
    "nd_al_do_df.to_csv('./slope_div/nd_al_do.csv', encoding = 'CP949')\n",
    "\n",
    "nd_chla_up_df.to_csv('./slope_div/nd_chla_up.csv', encoding = 'CP949')\n",
    "nd_chla_mid_df.to_csv('./slope_div/nd_chla_mid.csv', encoding = 'CP949')\n",
    "nd_chla_do_df.to_csv('./slope_div/nd_chla_do.csv', encoding = 'CP949')"
   ]
  },
  {
   "cell_type": "code",
   "execution_count": 300,
   "id": "interior-cosmetic",
   "metadata": {},
   "outputs": [
    {
     "data": {
      "text/plain": [
       "'/Linux/Data/Sejong bo/slope_output.zip'"
      ]
     },
     "execution_count": 300,
     "metadata": {},
     "output_type": "execute_result"
    }
   ],
   "source": [
    "shutil.make_archive('slope_output', 'zip', './slope_output')"
   ]
  },
  {
   "cell_type": "code",
   "execution_count": 258,
   "id": "sized-karen",
   "metadata": {},
   "outputs": [
    {
     "data": {
      "text/plain": [
       "'/Linux/Data/Sejong bo/slope_div.zip'"
      ]
     },
     "execution_count": 258,
     "metadata": {},
     "output_type": "execute_result"
    }
   ],
   "source": [
    "shutil.make_archive('slope_div', 'zip', './slope_div')"
   ]
  },
  {
   "cell_type": "code",
   "execution_count": 301,
   "id": "complimentary-causing",
   "metadata": {},
   "outputs": [
    {
     "data": {
      "text/plain": [
       "'/Linux/Data/Sejong bo/p_value.zip'"
      ]
     },
     "execution_count": 301,
     "metadata": {},
     "output_type": "execute_result"
    }
   ],
   "source": [
    "shutil.make_archive('p_value', 'zip', './p_value')"
   ]
  },
  {
   "cell_type": "code",
   "execution_count": null,
   "id": "affiliated-attitude",
   "metadata": {},
   "outputs": [],
   "source": []
  }
 ],
 "metadata": {
  "kernelspec": {
   "display_name": "Python 3",
   "language": "python",
   "name": "python3"
  },
  "language_info": {
   "codemirror_mode": {
    "name": "ipython",
    "version": 3
   },
   "file_extension": ".py",
   "mimetype": "text/x-python",
   "name": "python",
   "nbconvert_exporter": "python",
   "pygments_lexer": "ipython3",
   "version": "3.7.10"
  }
 },
 "nbformat": 4,
 "nbformat_minor": 5
}
